{
  "cells": [
    {
      "cell_type": "code",
      "execution_count": null,
      "metadata": {
        "id": "-tUWRz_6cDtR"
      },
      "outputs": [],
      "source": []
    },
    {
      "cell_type": "markdown",
      "metadata": {
        "id": "PQmVPtLWiKue"
      },
      "source": [
        "# Assignment: Basic Python Concepts\n",
        "## Problem: Variables and Data Types\n",
        "Create a Python script that does the following:\n",
        "\n",
        "1. Defines a variable x and assigns it an integer value.\n",
        "2. Defines a variable y and assigns it a floating-point value.\n",
        "3. Defines a variable z and assigns it a string value.\n",
        "4. Defines a variable a and assigns it a boolean value.\n",
        "5. Prints the value and data type of each variable.\n"
      ]
    },
    {
      "cell_type": "code",
      "execution_count": null,
      "metadata": {
        "id": "d0fxu9u9iyWu"
      },
      "outputs": [
        {
          "name": "stdout",
          "output_type": "stream",
          "text": [
            "x: 10, type: <class 'int'>\n",
            "y: 3.14, type: <class 'float'>\n",
            "z: Hello, World!, type: <class 'str'>\n",
            "a: True, type: <class 'bool'>\n"
          ]
        }
      ],
      "source": [
        "x = 10 \n",
        "y = 3.14  \n",
        "z = \"Hello, World!\"  \n",
        "a = True  \n",
        "print(f\"x: {x}, type: {type(x)}\")\n",
        "print(f\"y: {y}, type: {type(y)}\")\n",
        "print(f\"z: {z}, type: {type(z)}\")\n",
        "print(f\"a: {a}, type: {type(a)}\")"
      ]
    },
    {
      "cell_type": "markdown",
      "metadata": {
        "id": "zs6qX6NJiphd"
      },
      "source": [
        "# Problem: Control Structures\n",
        "## Create a Python script that does the following:\n",
        "\n",
        "1. Defines a list of integers from 1 to 10.\n",
        "2. Uses a for loop to print each element of the list.\n",
        "3. Uses a while loop to print the sum of the elements in the list.\n"
      ]
    },
    {
      "cell_type": "code",
      "execution_count": 8,
      "metadata": {
        "id": "XBMAF7Jziz4G"
      },
      "outputs": [
        {
          "name": "stdout",
          "output_type": "stream",
          "text": [
            "1 2 3 4 5 6 7 8 9 10 \n",
            "\n",
            "Sum of elements: 55\n"
          ]
        }
      ],
      "source": [
        "int_list = list(range(1, 11))\n",
        "\n",
        "for num in int_list:\n",
        "    print(num, end=' ')\n",
        "\n",
        "sum_of_elements = 0\n",
        "index = 0\n",
        "while index < len(int_list):\n",
        "    sum_of_elements += int_list[index]\n",
        "    index += 1\n",
        "print(\"\\n\")\n",
        "print(f\"Sum of elements: {sum_of_elements}\")\n"
      ]
    },
    {
      "cell_type": "markdown",
      "metadata": {
        "id": "a2C5gRxvjRGk"
      },
      "source": [
        "# Problem Set: Matplotlib Basics\n"
      ]
    },
    {
      "cell_type": "markdown",
      "metadata": {
        "id": "wcCYiSC0idj4"
      },
      "source": [
        "## Problem : Line Plot\n",
        "\n",
        "Create a Python script that does the following:\n",
        "\n",
        "1. Imports the matplotlib.pyplot module as plt.\n",
        "2. Defines a list of x-values from 0 to 10 (inclusive).\n",
        "3. Defines a list of y-values as the square of each x-value in the list.\n",
        "4. Uses the plot function to create a line plot of the x and y values.\n",
        "5. Labels the x-axis as \"x-axis\" and the y-axis as \"y-axis\".\n",
        "6. Sets the title of the plot as \"Line Plot\".\n",
        "7. Saves the plot as a PNG file named \"line_plot.png\".\n"
      ]
    },
    {
      "cell_type": "code",
      "execution_count": null,
      "metadata": {},
      "outputs": [
        {
          "name": "stdout",
          "output_type": "stream",
          "text": [
            "Requirement already satisfied: matplotlib in c:\\users\\divya\\appdata\\local\\programs\\python\\python313\\lib\\site-packages (3.10.1)\n",
            "Requirement already satisfied: contourpy>=1.0.1 in c:\\users\\divya\\appdata\\local\\programs\\python\\python313\\lib\\site-packages (from matplotlib) (1.3.1)\n",
            "Requirement already satisfied: cycler>=0.10 in c:\\users\\divya\\appdata\\local\\programs\\python\\python313\\lib\\site-packages (from matplotlib) (0.12.1)\n",
            "Requirement already satisfied: fonttools>=4.22.0 in c:\\users\\divya\\appdata\\local\\programs\\python\\python313\\lib\\site-packages (from matplotlib) (4.56.0)\n",
            "Requirement already satisfied: kiwisolver>=1.3.1 in c:\\users\\divya\\appdata\\local\\programs\\python\\python313\\lib\\site-packages (from matplotlib) (1.4.8)\n",
            "Requirement already satisfied: numpy>=1.23 in c:\\users\\divya\\appdata\\local\\programs\\python\\python313\\lib\\site-packages (from matplotlib) (2.2.3)\n",
            "Requirement already satisfied: packaging>=20.0 in c:\\users\\divya\\appdata\\roaming\\python\\python313\\site-packages (from matplotlib) (24.2)\n",
            "Requirement already satisfied: pillow>=8 in c:\\users\\divya\\appdata\\local\\programs\\python\\python313\\lib\\site-packages (from matplotlib) (11.1.0)\n",
            "Requirement already satisfied: pyparsing>=2.3.1 in c:\\users\\divya\\appdata\\local\\programs\\python\\python313\\lib\\site-packages (from matplotlib) (3.2.1)\n",
            "Requirement already satisfied: python-dateutil>=2.7 in c:\\users\\divya\\appdata\\roaming\\python\\python313\\site-packages (from matplotlib) (2.9.0.post0)\n",
            "Requirement already satisfied: six>=1.5 in c:\\users\\divya\\appdata\\roaming\\python\\python313\\site-packages (from python-dateutil>=2.7->matplotlib) (1.17.0)\n",
            "Note: you may need to restart the kernel to use updated packages.\n"
          ]
        },
        {
          "name": "stderr",
          "output_type": "stream",
          "text": [
            "\n",
            "[notice] A new release of pip is available: 24.3.1 -> 25.0.1\n",
            "[notice] To update, run: python.exe -m pip install --upgrade pip\n"
          ]
        },
        {
          "data": {
            "image/png": "[encoded data removed]",
            "text/plain": [
              "<Figure size 640x480 with 1 Axes>"
            ]
          },
          "metadata": {},
          "output_type": "display_data"
        }
      ],
      "source": [
        "%pip install matplotlib\n",
        "import matplotlib.pyplot as plt\n",
        "x_values = list(range(11))\n",
        "y_values = [x**2 for x in x_values]\n",
        "plt.plot(x_values, y_values)\n",
        "plt.xlabel(\"x-axis\")\n",
        "plt.ylabel(\"y-axis\")\n",
        "plt.title(\"Line Plot\")\n",
        "plt.savefig(\"line_plot.png\")\n",
        "plt.show()\n"
      ]
    },
    {
      "cell_type": "markdown",
      "metadata": {
        "id": "k0-Cx8_Uidk1"
      },
      "source": [
        "## Problem:  Bar chart\n",
        "Create a Python script that does the following:\n",
        "\n",
        "1. Imports the matplotlib.pyplot module as plt.\n",
        "2. Defines a list of labels as the names of five different fruits.\n",
        "3. Defines a list of values as the number of fruits in stock.\n",
        "4. Uses the bar function to create a bar chart of the labels and values.\n",
        "5. Labels the x-axis as \"Fruits\" and the y-axis as \"Stock\".\n",
        "6. Sets the title of the plot as \"Fruit Stock\".\n",
        "7. \n",
        "\n",
        "```\n",
        "# This is formatted as code\n",
        "```\n",
        "\n",
        "Saves the plot as a PNG file named \"bar_chart.png\".\n"
      ]
    },
    {
      "cell_type": "code",
      "execution_count": 6,
      "metadata": {
        "id": "Jog4NxE_jhtO"
      },
      "outputs": [
        {
          "data": {
            "image/png": "[encoded data removed]",
            "text/plain": [
              "<Figure size 640x480 with 1 Axes>"
            ]
          },
          "metadata": {},
          "output_type": "display_data"
        }
      ],
      "source": [
        "labels = ['Apple', 'Banana', 'Pineapple', 'Strawberry', 'Orange']\n",
        "values = [10, 15, 7, 25, 5]\n",
        "\n",
        "plt.bar(labels, values)\n",
        "plt.xlabel(\"Fruits\")\n",
        "plt.ylabel(\"Stock\")\n",
        "plt.title(\"Fruit Stock\")\n",
        "plt.savefig(\"bar_chart.png\")\n",
        "plt.show()"
      ]
    },
    {
      "cell_type": "markdown",
      "metadata": {
        "id": "1ceo50S-jsXh"
      },
      "source": [
        "## Problem: Scatter Plot\n",
        "\n",
        "Create a Python script that does the following:\n",
        "\n",
        "1. Imports the matplotlib.pyplot module as plt.\n",
        "2.Defines two lists of values, x and y, each with ten randomly generated values between 0 and 1.\n",
        "4. Uses the scatter function to create a scatter plot of the x and y values.\n",
        "4,Labels the x-axis as \"x-axis\" and the y-axis as \"y-axis\".\n",
        "5. Sets the title of the plot as \"Scatter Plot\".\n",
        "6. Saves the plot as a PNG file named \"scatter_plot.png\"."
      ]
    },
    {
      "cell_type": "code",
      "execution_count": 7,
      "metadata": {},
      "outputs": [
        {
          "data": {
            "image/png": "[encoded data removed]",
            "text/plain": [
              "<Figure size 640x480 with 1 Axes>"
            ]
          },
          "metadata": {},
          "output_type": "display_data"
        }
      ],
      "source": [
        "import numpy as np\n",
        "\n",
        "x = np.random.rand(10)\n",
        "y = np.random.rand(10)\n",
        "\n",
        "plt.scatter(x, y)\n",
        "plt.xlabel(\"x-axis\")\n",
        "plt.ylabel(\"y-axis\")\n",
        "plt.title(\"Scatter Plot\")\n",
        "plt.savefig(\"scatter_plot.png\")\n",
        "plt.show()"
      ]
    },
    {
      "cell_type": "markdown",
      "metadata": {
        "id": "FF2EGm97j1rj"
      },
      "source": [
        "# Problem set Numpy Basics\n"
      ]
    },
    {
      "cell_type": "markdown",
      "metadata": {
        "id": "zn5REHJWj85_"
      },
      "source": [
        "## Problem 1: Creating Arrays\n",
        "Create a Python script that does the following:\n",
        "\n",
        "1. Imports the numpy module as np.\n",
        "1.Defines a 1-dimensional NumPy array of integers from 0 to 9 (inclusive).\n",
        "1.Defines a 2-dimensional NumPy array of integers with shape (2, 3) and with the following values:\n",
        "[[1, 2, 3],\n",
        " [4, 5, 6]]\n",
        "1.Prints the shape and data type of each array.\n",
        "\n",
        "Example output:\n",
        "\n",
        "1D array: [0 1 2 3 4 5 6 7 8 9]\n",
        "\n",
        "Shape: (10,)\n",
        "\n",
        "Data Type: int64\n",
        "\n",
        "2D array:\n",
        "\n",
        "[[1 2 3] \\\\\n",
        " [4 5 6]]\n",
        "\n",
        "Shape: (2, 3)\n",
        "\n",
        "Data Type: int64\n",
        "\n",
        "## Problem 2: Array Operations\n",
        "Create a Python script that does the following:\n",
        "\n",
        "1. Imports the numpy module as np.\n",
        "2. Defines two 1-dimensional NumPy arrays of integers with the same length.\n",
        "3. Computes the element-wise sum, difference, product, and quotient of the two arrays.\n",
        "4. Computes the dot product of the two arrays.\n",
        "5. Prints the results of each computation.\n",
        "\n",
        "Example output:\n",
        "\n",
        "\n",
        "Array 1: [1 2 3]\n",
        "\n",
        "Array 2: [4 5 6]\n",
        "\n",
        "Element-wise sum: [5 7 9]\n",
        "\n",
        "Element-wise difference: [-3 -3 -3]\n",
        "\n",
        "Element-wise product: [ 4 10 18]\n",
        "\n",
        "Element-wise quotient: [0.25 0.4 0.5]\n",
        "\n",
        "Dot product: 32\n",
        "\n",
        "# Problem 3: Array Indexing and Slicing\n",
        "Create a Python script that does the following:\n",
        "\n",
        "1.Imports the numpy module as np.\n",
        "2. Defines a 2-dimensional NumPy array of integers with shape (3, 3) and with the following values:\n",
        "\n",
        "[[1, 2, 3], \\\\\n",
        " [4, 5, 6], \\\\\n",
        " [7, 8, 9]] \n",
        "\n",
        "3. Uses indexing to print the value of the element in the second row and third column.\n",
        "4. Uses slicing to print the first two rows and first two columns of the array.\n",
        "5. Uses slicing to print the last two rows and last two columns of the array.\n",
        "6. Uses slicing to print the middle row and middle column of the array.\n",
        "\n",
        "\n",
        "# Problem 4: Random Number Generation\n",
        "Create a Python script that does the following:\n",
        "\n",
        "1. Imports the numpy module as np.\n",
        "2. Generates an array of 10 random integers between 1 and 100 (inclusive).\n",
        "3. Prints the array.\n",
        "4. Computes the mean and standard deviation of the array.\n",
        "5. Prints the mean and standard deviation"
      ]
    },
    {
      "cell_type": "code",
      "execution_count": 2,
      "metadata": {},
      "outputs": [
        {
          "name": "stdout",
          "output_type": "stream",
          "text": [
            "1D array: [0 1 2 3 4 5 6 7 8 9]\n",
            "Shape: (10,)\n",
            "Data Type: int64\n",
            "\n",
            "2D array:\n",
            " [[1 2 3]\n",
            " [4 5 6]]\n",
            "Shape: (2, 3)\n",
            "Data Type: int64\n"
          ]
        }
      ],
      "source": [
        "import numpy as np\n",
        "\n",
        "arr1 = np.arange(10)\n",
        "print(\"1D array:\", arr1)\n",
        "print(\"Shape:\", arr1.shape)\n",
        "print(\"Data Type:\", arr1.dtype)\n",
        "\n",
        "arr2 = np.array([[1, 2, 3], [4, 5, 6]])\n",
        "print(\"\\n2D array:\\n\", arr2)\n",
        "print(\"Shape:\", arr2.shape)\n",
        "print(\"Data Type:\", arr2.dtype)\n"
      ]
    },
    {
      "cell_type": "code",
      "execution_count": 3,
      "metadata": {},
      "outputs": [
        {
          "name": "stdout",
          "output_type": "stream",
          "text": [
            "Array a: [1 2 3]\n",
            "Array b: [4 5 6]\n",
            "Element-wise sum: [5 7 9]\n",
            "Element-wise difference: [-3 -3 -3]\n",
            "Element-wise product: [ 4 10 18]\n",
            "Element-wise quotient: [0.25 0.4  0.5 ]\n",
            "Dot product: 32\n"
          ]
        }
      ],
      "source": [
        "a = np.array([1, 2, 3])\n",
        "b = np.array([4, 5, 6])\n",
        "sum_ab = a + b\n",
        "diff_ab = a - b\n",
        "prod_ab = a * b\n",
        "quot_ab = a / b\n",
        "dot_ab = np.dot(a, b)\n",
        "print(\"Array a:\", a)\n",
        "print(\"Array b:\", b)\n",
        "print(\"Element-wise sum:\", sum_ab)\n",
        "print(\"Element-wise difference:\", diff_ab)\n",
        "print(\"Element-wise product:\", prod_ab)\n",
        "print(\"Element-wise quotient:\", quot_ab)\n",
        "print(\"Dot product:\", dot_ab)\n"
      ]
    },
    {
      "cell_type": "code",
      "execution_count": 4,
      "metadata": {},
      "outputs": [
        {
          "name": "stdout",
          "output_type": "stream",
          "text": [
            "6\n",
            "[[1 2]\n",
            " [4 5]]\n",
            "[[5 6]\n",
            " [8 9]]\n",
            "[4 5 6]\n",
            "[2 5 8]\n"
          ]
        }
      ],
      "source": [
        "arr3 = np.array([[1, 2, 3], [4, 5, 6], [7, 8, 9]])\n",
        "print(arr3[1, 2])\n",
        "print(arr3[:2, :2])\n",
        "print(arr3[1:, 1:])\n",
        "print(arr3[1, :])\n",
        "print(arr3[:, 1])"
      ]
    },
    {
      "cell_type": "code",
      "execution_count": 7,
      "metadata": {},
      "outputs": [
        {
          "name": "stdout",
          "output_type": "stream",
          "text": [
            "Random array : [50 39 47 26 54 32 82  5 20 40]\n",
            "Mean : 39.5\n",
            "Standard Deviation : 19.981241202688086\n"
          ]
        }
      ],
      "source": [
        "r = np.random.randint(1, 100, 10)\n",
        "mean_r = np.mean(r)\n",
        "std_r = np.std(r)\n",
        "print(\"Random array :\", r)\n",
        "print(\"Mean :\", mean_r)\n",
        "print(\"Standard Deviation :\", std_r)"
      ]
    }
  ],
  "metadata": {
    "colab": {
      "provenance": []
    },
    "kernelspec": {
      "display_name": "Python 3",
      "name": "python3"
    },
    "language_info": {
      "codemirror_mode": {
        "name": "ipython",
        "version": 3
      },
      "file_extension": ".py",
      "mimetype": "text/x-python",
      "name": "python",
      "nbconvert_exporter": "python",
      "pygments_lexer": "ipython3",
      "version": "3.13.1"
    }
  },
  "nbformat": 4,
  "nbformat_minor": 0
}
